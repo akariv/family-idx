{
 "cells": [
  {
   "cell_type": "code",
   "execution_count": 1,
   "metadata": {},
   "outputs": [],
   "source": [
    "import os\n",
    "import dataflows as DF\n",
    "import dotenv\n",
    "import dataflows_airtable as DFA\n",
    "\n",
    "dotenv.load_dotenv()\n",
    "\n",
    "URL=os.environ['URL']\n",
    "AIRTABLE_BASE=os.environ['AIRTABLE_BASE']\n",
    "AIRTABLE_TABLE=os.environ['AIRTABLE_TABLE']\n",
    "AIRTABLE_API_KEY=os.environ['AIRTABLE_API_KEY']"
   ]
  },
  {
   "cell_type": "code",
   "execution_count": 3,
   "metadata": {},
   "outputs": [
    {
     "data": {
      "text/html": [
       "<h3>data</h3>"
      ],
      "text/plain": [
       "<IPython.core.display.HTML object>"
      ]
     },
     "metadata": {},
     "output_type": "display_data"
    },
    {
     "data": {
      "text/html": [
       "<table>\n",
       "<thead>\n",
       "<tr><th>#  </th><th>country\n",
       "(string)           </th><th>data_type\n",
       "(string)      </th><th>indicator\n",
       "(string)                                     </th><th>value\n",
       "(number)          </th></tr>\n",
       "</thead>\n",
       "<tbody>\n",
       "<tr><td>1  </td><td>luxembourg</td><td>raw  </td><td>פנאי                                </td><td>15.20    </td></tr>\n",
       "<tr><td>2  </td><td>luxembourg</td><td>raw  </td><td>ימי חופשה לעובדים                   </td><td>37.00    </td></tr>\n",
       "<tr><td>3  </td><td>luxembourg</td><td>raw  </td><td>זמן בדרכים                          </td><td>29.00    </td></tr>\n",
       "<tr><td>4  </td><td>luxembourg</td><td>raw  </td><td>שעות  שבועיות למשרה מלאה            </td><td>40.36    </td></tr>\n",
       "<tr><td>5  </td><td>luxembourg</td><td>raw  </td><td>שביעות רצון מחינוך                  </td><td>         </td></tr>\n",
       "<tr><td>6  </td><td>luxembourg</td><td>raw  </td><td>הפוגת אבות (סך שבועות משולמים היטב) </td><td>27.80    </td></tr>\n",
       "<tr><td>7  </td><td>luxembourg</td><td>raw  </td><td>הפוגת אמהות (סך שבועות משולמים היטב)</td><td>37.54    </td></tr>\n",
       "<tr><td>8  </td><td>luxembourg</td><td>raw  </td><td>פער כניסה למסגרות                   </td><td>21.00    </td></tr>\n",
       "<tr><td>9  </td><td>luxembourg</td><td>raw  </td><td>הכנסה פנויה למשפחה עם ילדים         </td><td>         </td></tr>\n",
       "<tr><td>10 </td><td>luxembourg</td><td>raw  </td><td>שיעור הטבות וקצבאות למשפחה מהכנסה   </td><td>0.14     </td></tr>\n",
       "<tr><td>11 </td><td>luxembourg</td><td>raw  </td><td>הוצאה לדורש עבודה                   </td><td>         </td></tr>\n",
       "<tr><td>12 </td><td>germany   </td><td>raw  </td><td>פנאי                                </td><td>15.62    </td></tr>\n",
       "<tr><td>13 </td><td>germany   </td><td>raw  </td><td>ימי חופשה לעובדים                   </td><td>30.00    </td></tr>\n",
       "<tr><td>14 </td><td>germany   </td><td>raw  </td><td>זמן בדרכים                          </td><td>26.00    </td></tr>\n",
       "<tr><td>15 </td><td>germany   </td><td>raw  </td><td>שעות  שבועיות למשרה מלאה            </td><td>40.20    </td></tr>\n",
       "<tr><td>16 </td><td>germany   </td><td>raw  </td><td>שביעות רצון מחינוך                  </td><td>0.65     </td></tr>\n",
       "<tr><td>17 </td><td>germany   </td><td>raw  </td><td>הפוגת אבות (סך שבועות משולמים היטב) </td><td>60.20    </td></tr>\n",
       "<tr><td>18 </td><td>germany   </td><td>raw  </td><td>הפוגת אמהות (סך שבועות משולמים היטב)</td><td>47.77    </td></tr>\n",
       "<tr><td>19 </td><td>germany   </td><td>raw  </td><td>פער כניסה למסגרות                   </td><td>0.00     </td></tr>\n",
       "<tr><td>20 </td><td>germany   </td><td>raw  </td><td>הכנסה פנויה למשפחה עם ילדים         </td><td>28,085.70</td></tr>\n",
       "<tr><td>...</td><td>          </td><td>     </td><td>                                    </td><td>         </td></tr>\n",
       "<tr><td>100</td><td>norway    </td><td>raw  </td><td>פנאי                                </td><td>15.56    </td></tr>\n",
       "<tr><td>101</td><td>norway    </td><td>raw  </td><td>ימי חופשה לעובדים                   </td><td>31.00    </td></tr>\n",
       "<tr><td>102</td><td>norway    </td><td>raw  </td><td>זמן בדרכים                          </td><td>27.00    </td></tr>\n",
       "<tr><td>103</td><td>norway    </td><td>raw  </td><td>שעות  שבועיות למשרה מלאה            </td><td>38.24    </td></tr>\n",
       "<tr><td>104</td><td>norway    </td><td>raw  </td><td>שביעות רצון מחינוך                  </td><td>0.92     </td></tr>\n",
       "<tr><td>105</td><td>norway    </td><td>raw  </td><td>הפוגת אבות (סך שבועות משולמים היטב) </td><td>15.00    </td></tr>\n",
       "<tr><td>106</td><td>norway    </td><td>raw  </td><td>הפוגת אמהות (סך שבועות משולמים היטב)</td><td>34.00    </td></tr>\n",
       "<tr><td>107</td><td>norway    </td><td>raw  </td><td>פער כניסה למסגרות                   </td><td>0.00     </td></tr>\n",
       "<tr><td>108</td><td>norway    </td><td>raw  </td><td>הכנסה פנויה למשפחה עם ילדים         </td><td>36,588.40</td></tr>\n",
       "<tr><td>109</td><td>norway    </td><td>raw  </td><td>שיעור הטבות וקצבאות למשפחה מהכנסה   </td><td>0.04     </td></tr>\n",
       "<tr><td>110</td><td>norway    </td><td>raw  </td><td>הוצאה לדורש עבודה                   </td><td>12,018.24</td></tr>\n",
       "<tr><td>...</td><td>          </td><td>     </td><td>                                    </td><td>         </td></tr>\n",
       "<tr><td>739</td><td>chile     </td><td>index</td><td>ימי חופשה לעובדים                   </td><td>0.71     </td></tr>\n",
       "<tr><td>740</td><td>chile     </td><td>index</td><td>זמן בדרכים                          </td><td>         </td></tr>\n",
       "<tr><td>741</td><td>chile     </td><td>index</td><td>שעות  שבועיות למשרה מלאה            </td><td>0.30     </td></tr>\n",
       "<tr><td>742</td><td>chile     </td><td>index</td><td>שביעות רצון מחינוך                  </td><td>0.00     </td></tr>\n",
       "<tr><td>743</td><td>chile     </td><td>index</td><td>הפוגת אבות (סך שבועות משולמים היטב) </td><td>0.03     </td></tr>\n",
       "<tr><td>744</td><td>chile     </td><td>index</td><td>הפוגת אמהות (סך שבועות משולמים היטב)</td><td>0.37     </td></tr>\n",
       "<tr><td>745</td><td>chile     </td><td>index</td><td>פער כניסה למסגרות                   </td><td>0.01     </td></tr>\n",
       "<tr><td>746</td><td>chile     </td><td>index</td><td>הכנסה פנויה למשפחה עם ילדים         </td><td>0.22     </td></tr>\n",
       "<tr><td>747</td><td>chile     </td><td>index</td><td>שיעור הטבות וקצבאות למשפחה מהכנסה   </td><td>0.20     </td></tr>\n",
       "<tr><td>748</td><td>chile     </td><td>index</td><td>הוצאה לדורש עבודה                   </td><td>0.03     </td></tr>\n",
       "</tbody>\n",
       "</table>"
      ],
      "text/plain": [
       "<IPython.core.display.HTML object>"
      ]
     },
     "metadata": {},
     "output_type": "display_data"
    },
    {
     "data": {
      "text/plain": [
       "(<datapackage.package.Package at 0x12b2c3520>, {})"
      ]
     },
     "execution_count": 3,
     "metadata": {},
     "output_type": "execute_result"
    }
   ],
   "source": [
    "def unwind(base):\n",
    "    def func(rows):\n",
    "        for row in rows:\n",
    "            out_ = dict((k, v) for k, v in row.items() if k in base)\n",
    "            for k, v in row.items():\n",
    "                if k in base or k in ['indicator', 'value', 'estimated']:\n",
    "                    continue\n",
    "                out = dict(\n",
    "                    **out_,\n",
    "                    indicator=k,\n",
    "                    value=0.5 if v is None else v,\n",
    "                    estimated=v is None\n",
    "                )\n",
    "                yield out\n",
    "            \n",
    "    return DF.Flow(\n",
    "        DF.add_field('indicator', 'string'),\n",
    "        DF.add_field('value', 'number'),\n",
    "        DF.add_field('estimated', 'boolean'),\n",
    "        func,\n",
    "        DF.select_fields(['country', 'data_type', 'indicator', 'value'])\n",
    "    )\n",
    "\n",
    "\n",
    "DF.Flow(\n",
    "    DF.load(URL),\n",
    "    DF.update_resource(-1, name='data'),\n",
    "    DF.rename_fields({\n",
    "        'מדינה': 'country',\n",
    "        'data type': 'data_type',\n",
    "    }),\n",
    "    unwind(['country', 'data_type']),\n",
    "    DF.printer(tablefmt='html'),\n",
    "    DFA.dump_to_airtable({\n",
    "        (AIRTABLE_BASE, AIRTABLE_TABLE): {\n",
    "            'resource-name': 'data',\n",
    "            'typecast': True\n",
    "        }\n",
    "    }, apikey=AIRTABLE_API_KEY)\n",
    ").process()"
   ]
  },
  {
   "cell_type": "code",
   "execution_count": null,
   "metadata": {},
   "outputs": [],
   "source": []
  }
 ],
 "metadata": {
  "kernelspec": {
   "display_name": "Python 3",
   "language": "python",
   "name": "python3"
  },
  "language_info": {
   "codemirror_mode": {
    "name": "ipython",
    "version": 3
   },
   "file_extension": ".py",
   "mimetype": "text/x-python",
   "name": "python",
   "nbconvert_exporter": "python",
   "pygments_lexer": "ipython3",
   "version": "3.9.4"
  },
  "orig_nbformat": 4
 },
 "nbformat": 4,
 "nbformat_minor": 2
}
